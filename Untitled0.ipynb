{
  "nbformat": 4,
  "nbformat_minor": 0,
  "metadata": {
    "colab": {
      "provenance": [],
      "authorship_tag": "ABX9TyOU5tkAl2OUxcFpqcTuOD2N",
      "include_colab_link": true
    },
    "kernelspec": {
      "name": "python3",
      "display_name": "Python 3"
    },
    "language_info": {
      "name": "python"
    }
  },
  "cells": [
    {
      "cell_type": "markdown",
      "metadata": {
        "id": "view-in-github",
        "colab_type": "text"
      },
      "source": [
        "<a href=\"https://colab.research.google.com/github/Pedrinho060/Python/blob/main/Untitled0.ipynb\" target=\"_parent\"><img src=\"https://colab.research.google.com/assets/colab-badge.svg\" alt=\"Open In Colab\"/></a>"
      ]
    },
    {
      "cell_type": "markdown",
      "source": [
        "#**AULA 1**  ☢  👻  👽  "
      ],
      "metadata": {
        "id": "xWED9fS7nvor"
      }
    },
    {
      "cell_type": "code",
      "source": [
        "ano = \"IX\"\n",
        "print(ano, \"competição de programação da Start\")"
      ],
      "metadata": {
        "colab": {
          "base_uri": "https://localhost:8080/"
        },
        "id": "4v4m0p-zpdZN",
        "outputId": "6c097c85-8e16-44a9-cfcb-6c30c3a87c8f"
      },
      "execution_count": null,
      "outputs": [
        {
          "output_type": "stream",
          "name": "stdout",
          "text": [
            "IX competição de programação da Start\n"
          ]
        }
      ]
    },
    {
      "cell_type": "markdown",
      "source": [
        "#AULA2  ✈  ☣  ㊙"
      ],
      "metadata": {
        "id": "haTjrH5bs0YK"
      }
    },
    {
      "cell_type": "markdown",
      "source": [
        "#**AULA5** ☣ ⛈ ⚡"
      ],
      "metadata": {
        "id": "XrEdU3fKmfZ_"
      }
    },
    {
      "cell_type": "code",
      "source": [
        "   print(\"Olá sou assistente virtual, em que posso ajudar?\")\n",
        "nome = input(\"digite seu nome:\")\n",
        "   resposta = input(f\"Olá {nome}, qual tema voce deseja conversar? python, javascript ou matematica:\").lower()\n",
        "if resposta == \"python\":\n",
        "   print(f\"Ótimo {nome}, vamos falar sobre Python. \\n O Python é uma linguagem de programação de alto nível, interpretada e muito versátil, criada por Guido van Rossum e lançada pela primeira vez em 1991. Ela é conhecida por ter uma sintaxe simples e legível, o que a torna excelente tanto para iniciantes quanto para profissionais experientes.\")\n",
        "if resposta == \"javascript\":\n",
        "   print(f\"Òtimo {nome}, vamos falar sobre Javascript.\")\n",
        "if resposta == \"matematica\":\n",
        "   print(f\"Òtimo {nome}, vamos falar sobre Matemática.\")\n",
        "else:\n",
        "  print(f\"Que pena {nome}, não sei falar sobre esse assunto.\")\n"
      ],
      "metadata": {
        "colab": {
          "base_uri": "https://localhost:8080/",
          "height": 141
        },
        "id": "i-4KY0tbm77R",
        "outputId": "c3ed0fd7-fa95-44a2-afd2-ea74e41a2e8a"
      },
      "execution_count": 102,
      "outputs": [
        {
          "output_type": "error",
          "ename": "IndentationError",
          "evalue": "expected an indented block after 'if' statement on line 4 (ipython-input-3182873513.py, line 5)",
          "traceback": [
            "\u001b[0;36m  File \u001b[0;32m\"/tmp/ipython-input-3182873513.py\"\u001b[0;36m, line \u001b[0;32m5\u001b[0m\n\u001b[0;31m    print(f\"Ótimo {nome}, vamos falar sobre Python. \\n O Python é uma linguagem de programação de alto nível, interpretada e muito versátil, criada por Guido van Rossum e lançada pela primeira vez em 1991. Ela é conhecida por ter uma sintaxe simples e legível, o que a torna excelente tanto para iniciantes quanto para profissionais experientes.\")\u001b[0m\n\u001b[0m    ^\u001b[0m\n\u001b[0;31mIndentationError\u001b[0m\u001b[0;31m:\u001b[0m expected an indented block after 'if' statement on line 4\n"
          ]
        }
      ]
    }
  ]
}